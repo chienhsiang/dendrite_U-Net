{
 "cells": [
  {
   "cell_type": "code",
   "execution_count": 1,
   "metadata": {},
   "outputs": [],
   "source": [
    "%load_ext autoreload\n",
    "%autoreload 2\n",
    "\n",
    "import sys, os, re\n",
    "sys.path.append(os.path.abspath('./src'))\n",
    "\n",
    "import pandas as pd\n",
    "import matplotlib.pyplot as plt\n",
    "\n",
    "import analyze_predictions"
   ]
  },
  {
   "cell_type": "markdown",
   "metadata": {},
   "source": [
    "# Set parameters"
   ]
  },
  {
   "cell_type": "code",
   "execution_count": 2,
   "metadata": {},
   "outputs": [],
   "source": [
    "prob_threshold = 0.5\n",
    "dil_type = 1 # 1: 4-connectivity, 2: 8-connectivity\n",
    "min_area = 10 # minimal object area\n",
    "\n",
    "dataset = 'fig_s1_images' # e.g. 'name of your data folder'\n",
    "model_names = ['model_062519'] # e.g. ['larvae_062519 or adult_062019']\n",
    "tags = [''] # Addition tag for model to distinguish columns when comparing different models\n",
    "output_csv = './results/fig_s1_results.csv' # csv file name to save (e.g. 'results.csv'), set to None if not saving\n",
    "pred_only = True # True: compute only prediction-related results. \n",
    "                 # False: also compute answer-related results (e.g. dice loss)\n",
    "post_processed_folder = 'post_proc_0.5_1_10' # or None if not saving, 'post_proc_0.5_1_0'\n",
    "\n",
    "# set parameters\n",
    "analyze_predictions.PARAMS['PROB_THRESHOLD'] = prob_threshold\n",
    "analyze_predictions.PARAMS['DIL_TYPE'] = dil_type\n",
    "analyze_predictions.PARAMS['MIN_AREA'] = min_area\n",
    "analyze_predictions.PARAMS['PRED_ONLY'] = pred_only\n",
    "analyze_predictions.PARAMS['POST_PROCESSED_FOLDER'] = post_processed_folder"
   ]
  },
  {
   "cell_type": "markdown",
   "metadata": {},
   "source": [
    "# Compute total length (area) and tip numbers (n_endpoints)"
   ]
  },
  {
   "cell_type": "code",
   "execution_count": 3,
   "metadata": {
    "scrolled": true
   },
   "outputs": [
    {
     "name": "stdout",
     "output_type": "stream",
     "text": [
      "Retrieving results of model_062519...\n",
      "  Done (Time elapsed: 1s)\n",
      "Save output to ./results/fig_s1_results.csv\n"
     ]
    }
   ],
   "source": [
    "df = analyze_predictions.main(dataset, model_names, tags=tags, output_csv=output_csv)\n",
    "\n",
    "# Add metadata from file name\n",
    "pattern = re.compile('(?P<type>(Adults|Larvae)).*\\.png$')\n",
    "metadata = [pattern.search(f).groupdict() for f in df['file_name']]\n",
    "\n",
    "df = pd.concat([df, pd.DataFrame(metadata)], axis=1)"
   ]
  }
 ],
 "metadata": {
  "kernelspec": {
   "display_name": "Python 3",
   "language": "python",
   "name": "python3"
  },
  "language_info": {
   "codemirror_mode": {
    "name": "ipython",
    "version": 3
   },
   "file_extension": ".py",
   "mimetype": "text/x-python",
   "name": "python",
   "nbconvert_exporter": "python",
   "pygments_lexer": "ipython3",
   "version": "3.7.10"
  }
 },
 "nbformat": 4,
 "nbformat_minor": 2
}
